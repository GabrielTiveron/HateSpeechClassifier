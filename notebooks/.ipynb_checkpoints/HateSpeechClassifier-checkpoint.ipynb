{
 "cells": [
  {
   "cell_type": "markdown",
   "metadata": {},
   "source": [
    "# Análise Exploratória dos Dados (EDA)\n",
    "Antes de começar a processar os dados é necessário analisar os mesmos para ter uma noção melhor de como lidar com eles\n",
    "## Carácterísticas importantes\n",
    "O contexto em análise é o processamento de Linguagem Natural, logo será analisada a frequência relativa de aparições de cada palavra em cada conjunto de classificação para que com isso possa ser feita uma futura classificação de tweets.\n",
    "\n",
    "## Separação de dados para análise estatística\n",
    "Os dados foram separados de acordo com sua classificação, com discurso de ódio e sem discurso de ódio.\n",
    "Além disso também foi utilizada a dependência nltk para filtro de palavras de linguagem natural.\n",
    "\n",
    "## Análise da natureza dos dados\n",
    "Após realizada a análise gráfica de alguns dados é possível extrair algumas informações como a relação percentual de cada classe nos casos de treino: 7.015% com discurso de ódio e 92.985% sem discurso de ódio, assim como a frequência das 10 palavras mais utilizadas em cada classe (com exceção de alguns termos considerados irrelevantes).\n",
    "\n",
    "# Pré Processamento\n",
    "\n",
    "## Método\n",
    "Os casos de treino serão divididos respeitando a proporção total dos casos para que se tenham resultados mais concisos. Tendo feito isso serão criadas duas listas de frequência relativa para que seja feita uma futura comparação entre os outros casos de treino e assim obter uma média de resultados.\n",
    "\n",
    "## Features\n",
    "A feature analisada nesse contexto será a frequência relativa de cada palavra no contexto das classes de discurso de ódio e não discurso de ódio.\n"
   ]
  },
  {
   "cell_type": "code",
   "execution_count": 52,
   "metadata": {},
   "outputs": [],
   "source": [
    "import pandas as pd\n",
    "\n",
    "train_data = pd.read_csv('../Dataset/train.csv')\n",
    "\n",
    "good_tweets = []\n",
    "bad_tweets = []\n",
    "tweets = train_data['tweet']\n",
    "labels = train_data['label']\n",
    "\n",
    "for i in range(len(tweets)):\n",
    "    if labels[i]:\n",
    "        bad_tweets.append(tweets[i])\n",
    "    else:\n",
    "        good_tweets.append(tweets[i])\n",
    "    "
   ]
  },
  {
   "cell_type": "code",
   "execution_count": 111,
   "metadata": {},
   "outputs": [],
   "source": [
    "import matplotlib.pyplot as pl\n",
    "import numpy as np\n",
    "def plot(labels, sizes, tag):\n",
    "    if tag:\n",
    "        colors = ['yellowgreen', 'lightcoral']\n",
    "        patches, texts, value = pl.pie(sizes, colors=colors, shadow=True, startangle=90,autopct='%1.3f%%')\n",
    "        pl.legend(patches, labels, loc=\"best\")\n",
    "        pl.axis('equal')\n",
    "        pl.tight_layout()\n",
    "    else:\n",
    "        x = np.arange(len(labels))\n",
    "        fig, ax = pl.subplots()\n",
    "        pl.bar(x, sizes)\n",
    "        pl.xticks(x, labels)\n",
    "    pl.show()"
   ]
  },
  {
   "cell_type": "code",
   "execution_count": 112,
   "metadata": {},
   "outputs": [
    {
     "data": {
      "image/png": "[encoded data removed]",
      "text/plain": [
       "<Figure size 432x288 with 1 Axes>"
      ]
     },
     "metadata": {},
     "output_type": "display_data"
    }
   ],
   "source": [
    "labels = ['Good Tweets', 'Bad Tweets']\n",
    "sizes = [ len(good_tweets),len(bad_tweets)]\n",
    "plot(labels, sizes, 1)"
   ]
  },
  {
   "cell_type": "code",
   "execution_count": 113,
   "metadata": {},
   "outputs": [],
   "source": [
    "from collections import Counter\n",
    "def word_frequency(string, ignore):\n",
    "    counts = Counter()\n",
    "    for sentence in string:\n",
    "        counts.update(word.strip('.,?!\"\\'').lower()for word in sentence.split()if word not in ignore)\n",
    "    print(counts.most_common(50))\n",
    "    return counts.most_common(50)"
   ]
  },
  {
   "cell_type": "code",
   "execution_count": 114,
   "metadata": {},
   "outputs": [
    {
     "name": "stdout",
     "output_type": "stream",
     "text": [
      "\n",
      "Good\n",
      "\n",
      "[('@user', 15586), ('the', 9280), ('to', 9245), ('a', 5674), ('i', 5504), ('you', 4907), ('and', 4493), ('for', 4226), ('in', 4201), ('is', 3736), ('of', 3703), ('my', 3573), ('', 3198), ('this', 2448), ('on', 2411), ('with', 2383), ('it', 2327), ('be', 2232), ('day', 1936), ('so', 1847), ('all', 1821), ('that', 1664), ('your', 1593), ('at', 1550), ('are', 1547), ('have', 1524), ('happy', 1512), ('#love', 1450), ('me', 1389), ('&amp;', 1307), ('just', 1265), ('when', 1194), ('will', 1192), ('we', 1172), ('love', 1170), ('-', 1166), ('am', 1150), ('u', 1105), ('do', 1100), ('time', 1044), ('not', 1043), (\"it's\", 992), ('but', 977), ('from', 968), (\"i'm\", 964), ('what', 953), ('now', 929), ('today', 909), ('get', 880), ('#positive', 871)]\n",
      "\n",
      "Bad\n",
      "\n",
      "[('@user', 1855), ('the', 833), ('a', 609), ('to', 567), ('of', 458), ('you', 455), ('is', 431), ('in', 425), ('and', 360), ('are', 325), ('&amp;', 267), ('for', 247), ('', 226), ('on', 212), ('i', 211), ('be', 204), ('this', 190), ('that', 175), ('â\\x80¦', 163), ('if', 156), ('not', 152), ('it', 144), ('like', 136), ('#trump', 125), ('white', 123), ('by', 117), ('with', 114), ('we', 107), ('about', 104), ('have', 103), ('racist', 101), ('why', 94), ('so', 94), ('as', 94), ('#politics', 94), ('what', 94), ('do', 92), ('#allahsoil', 92), ('all', 90), ('your', 88), ('black', 87), ('but', 84), ('who', 84), ('his', 83), ('no', 81), ('-', 81), ('was', 80), ('might', 77), ('people', 76), ('#libtard', 76)]\n"
     ]
    }
   ],
   "source": [
    "print('\\nGood\\n')\n",
    "good_frequency = word_frequency(good_tweets, '')\n",
    "print('\\nBad\\n')\n",
    "bad_frequency = word_frequency(bad_tweets, '')"
   ]
  },
  {
   "cell_type": "code",
   "execution_count": 115,
   "metadata": {},
   "outputs": [
    {
     "name": "stderr",
     "output_type": "stream",
     "text": [
      "[nltk_data] Downloading package stopwords to /root/nltk_data...\n",
      "[nltk_data]   Package stopwords is already up-to-date!\n"
     ]
    },
    {
     "data": {
      "text/plain": [
       "True"
      ]
     },
     "execution_count": 115,
     "metadata": {},
     "output_type": "execute_result"
    }
   ],
   "source": [
    "import nltk\n",
    "nltk.download('stopwords')"
   ]
  },
  {
   "cell_type": "code",
   "execution_count": 116,
   "metadata": {},
   "outputs": [
    {
     "name": "stdout",
     "output_type": "stream",
     "text": [
      "\n",
      "Good\n",
      "\n",
      "[('for', 4226), ('my', 3573), ('', 3198), ('this', 2448), ('on', 2411), ('with', 2383), ('it', 2327), ('be', 2232), ('day', 1936), ('so', 1847), ('all', 1821), ('that', 1664), ('your', 1593), ('at', 1550), ('are', 1547), ('have', 1524), ('happy', 1512), ('#love', 1450), ('me', 1389), ('just', 1265), ('when', 1194), ('will', 1192), ('we', 1172), ('love', 1170), ('am', 1150), ('u', 1105), ('do', 1100), ('time', 1044), ('not', 1043), (\"it's\", 992), ('but', 977), ('from', 968), (\"i'm\", 964), ('what', 953), ('now', 929), ('today', 909), ('get', 880), ('#positive', 871), ('out', 869), ('new', 849), ('like', 829), ('as', 826), ('our', 823), ('was', 810), ('how', 771), ('up', 763), ('about', 755), ('good', 747), ('see', 726), ('one', 722)]\n",
      "[('for', 4226), ('my', 3573), ('', 3198), ('this', 2448), ('on', 2411), ('with', 2383), ('it', 2327), ('be', 2232), ('day', 1936), ('so', 1847), ('all', 1821), ('that', 1664), ('your', 1593), ('at', 1550), ('are', 1547), ('have', 1524), ('happy', 1512), ('#love', 1450), ('me', 1389), ('just', 1265), ('when', 1194), ('will', 1192), ('we', 1172), ('love', 1170), ('am', 1150), ('u', 1105), ('do', 1100), ('time', 1044), ('not', 1043), (\"it's\", 992), ('but', 977), ('from', 968), (\"i'm\", 964), ('what', 953), ('now', 929), ('today', 909), ('get', 880), ('#positive', 871), ('out', 869), ('new', 849), ('like', 829), ('as', 826), ('our', 823), ('was', 810), ('how', 771), ('up', 763), ('about', 755), ('good', 747), ('see', 726), ('one', 722)]\n",
      "\n",
      "Bad\n",
      "\n",
      "[('are', 325), ('for', 247), ('', 226), ('on', 212), ('be', 204), ('this', 190), ('that', 175), ('if', 156), ('not', 152), ('it', 144), ('like', 136), ('#trump', 125), ('white', 123), ('by', 117), ('with', 114), ('we', 107), ('about', 104), ('have', 103), ('racist', 101), ('why', 94), ('so', 94), ('as', 94), ('#politics', 94), ('what', 94), ('do', 92), ('#allahsoil', 92), ('all', 90), ('your', 88), ('black', 87), ('but', 84), ('who', 84), ('his', 83), ('no', 81), ('was', 80), ('might', 77), ('people', 76), ('#libtard', 76), ('they', 76), ('#liberal', 75), ('from', 75), ('at', 74), ('#sjw', 74), ('just', 74), ('how', 73), ('he', 73), ('will', 73), ('trump', 72), ('has', 72), ('libtard', 72), ('my', 71)]\n"
     ]
    }
   ],
   "source": [
    "from nltk.corpus import stopwords\n",
    "ignore = ['@user', '&amp','', '-', 'â\\x80¦', '&amp;', 'a', 'the', 'i', 'of', 'is', 'to', 'you', 'in', 'and']\n",
    "ignore.append(stopwords.words('english'))\n",
    "print('\\nGood\\n')\n",
    "good_frequency = word_frequency(good_tweets, ignore)\n",
    "print(good_frequency)\n",
    "print('\\nBad\\n')\n",
    "bad_frequency = word_frequency(bad_tweets, ignore)"
   ]
  },
  {
   "cell_type": "code",
   "execution_count": 123,
   "metadata": {
    "scrolled": true
   },
   "outputs": [
    {
     "data": {
      "image/png": "[encoded data removed]",
      "text/plain": [
       "<Figure size 432x288 with 1 Axes>"
      ]
     },
     "metadata": {
      "needs_background": "light"
     },
     "output_type": "display_data"
    }
   ],
   "source": [
    "labels_good = ['happy', '#love', 'love']\n",
    "size_good = [1512/len(set(good_tweets)), 1450/len(set(good_tweets)), 1170/len(set(good_tweets))]\n",
    "labels_bad = ['#trump', 'white', 'racist']\n",
    "size_bad = [125/len(set(bad_tweets)), 123/len(set(bad_tweets)), 101/len(set(bad_tweets))]\n",
    "label = labels_good + labels_bad\n",
    "size = size_good + size_bad\n",
    "plot(label, size, 0)"
   ]
  },
  {
   "cell_type": "code",
   "execution_count": null,
   "metadata": {},
   "outputs": [],
   "source": []
  }
 ],
 "metadata": {
  "kernelspec": {
   "display_name": "Python 3",
   "language": "python",
   "name": "python3"
  },
  "language_info": {
   "codemirror_mode": {
    "name": "ipython",
    "version": 3
   },
   "file_extension": ".py",
   "mimetype": "text/x-python",
   "name": "python",
   "nbconvert_exporter": "python",
   "pygments_lexer": "ipython3",
   "version": "3.7.4"
  }
 },
 "nbformat": 4,
 "nbformat_minor": 2
}
