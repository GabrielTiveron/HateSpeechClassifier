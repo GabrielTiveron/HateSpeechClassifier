{
 "cells": [
  {
   "cell_type": "markdown",
   "metadata": {},
   "source": [
    "# Análise Exploratória dos Dados (EDA)\n",
    "Antes de começar a processar os dados é necessário analisar os mesmos para ter uma noção melhor de como lidar com eles\n",
    "## Carácterísticas importantes\n",
    "O contexto em análise é o processamento de Linguagem Natural, logo será analisada a frequência relativa de aparições de cada palavra em cada conjunto de classificação para que com isso possa ser feita uma futura classificação de tweets.\n"
   ]
  },
  {
   "cell_type": "code",
   "execution_count": 1,
   "metadata": {},
   "outputs": [
    {
     "name": "stderr",
     "output_type": "stream",
     "text": [
      "[nltk_data] Downloading package wordnet to /root/nltk_data...\n",
      "[nltk_data]   Package wordnet is already up-to-date!\n",
      "[nltk_data] Downloading package stopwords to /root/nltk_data...\n",
      "[nltk_data]   Package stopwords is already up-to-date!\n"
     ]
    }
   ],
   "source": [
    "import nltk\n",
    "import pandas as pd\n",
    "import matplotlib.pyplot as pl\n",
    "import sklearn\n",
    "from nltk.corpus import stopwords\n",
    "from nltk import WordNetLemmatizer\n",
    "from nltk import re\n",
    "from nltk import FreqDist\n",
    "lemma = WordNetLemmatizer()\n",
    "nltk.download('wordnet')\n",
    "nltk.download('stopwords')\n",
    "stop_words = set(stopwords.words('english'))\n",
    "from collections import Counter\n",
    "import math"
   ]
  },
  {
   "cell_type": "code",
   "execution_count": 2,
   "metadata": {},
   "outputs": [
    {
     "data": {
      "text/html": [
       "<div>\n",
       "<style scoped>\n",
       "    .dataframe tbody tr th:only-of-type {\n",
       "        vertical-align: middle;\n",
       "    }\n",
       "\n",
       "    .dataframe tbody tr th {\n",
       "        vertical-align: top;\n",
       "    }\n",
       "\n",
       "    .dataframe thead th {\n",
       "        text-align: right;\n",
       "    }\n",
       "</style>\n",
       "<table border=\"1\" class=\"dataframe\">\n",
       "  <thead>\n",
       "    <tr style=\"text-align: right;\">\n",
       "      <th></th>\n",
       "      <th>id</th>\n",
       "      <th>label</th>\n",
       "      <th>tweet</th>\n",
       "    </tr>\n",
       "  </thead>\n",
       "  <tbody>\n",
       "    <tr>\n",
       "      <td>0</td>\n",
       "      <td>1</td>\n",
       "      <td>0</td>\n",
       "      <td>@user when a father is dysfunctional and is s...</td>\n",
       "    </tr>\n",
       "    <tr>\n",
       "      <td>1</td>\n",
       "      <td>2</td>\n",
       "      <td>0</td>\n",
       "      <td>@user @user thanks for #lyft credit i can't us...</td>\n",
       "    </tr>\n",
       "    <tr>\n",
       "      <td>2</td>\n",
       "      <td>3</td>\n",
       "      <td>0</td>\n",
       "      <td>bihday your majesty</td>\n",
       "    </tr>\n",
       "    <tr>\n",
       "      <td>3</td>\n",
       "      <td>4</td>\n",
       "      <td>0</td>\n",
       "      <td>#model   i love u take with u all the time in ...</td>\n",
       "    </tr>\n",
       "    <tr>\n",
       "      <td>4</td>\n",
       "      <td>5</td>\n",
       "      <td>0</td>\n",
       "      <td>factsguide: society now    #motivation</td>\n",
       "    </tr>\n",
       "  </tbody>\n",
       "</table>\n",
       "</div>"
      ],
      "text/plain": [
       "   id  label                                              tweet\n",
       "0   1      0   @user when a father is dysfunctional and is s...\n",
       "1   2      0  @user @user thanks for #lyft credit i can't us...\n",
       "2   3      0                                bihday your majesty\n",
       "3   4      0  #model   i love u take with u all the time in ...\n",
       "4   5      0             factsguide: society now    #motivation"
      ]
     },
     "execution_count": 2,
     "metadata": {},
     "output_type": "execute_result"
    }
   ],
   "source": [
    "feature_data = pd.read_csv('../Dataset/train.csv')\n",
    "feature_data.head()"
   ]
  },
  {
   "cell_type": "code",
   "execution_count": 3,
   "metadata": {},
   "outputs": [],
   "source": [
    "import matplotlib.pyplot as pl\n",
    "import numpy as np\n",
    "def plot(labels, sizes, tag):\n",
    "    if tag:\n",
    "        colors = ['yellowgreen', 'lightcoral', 'orange']\n",
    "        patches, texts, value = pl.pie(sizes, colors=colors, shadow=True, startangle=90,autopct='%1.3f%%')\n",
    "        pl.legend(patches, labels, loc=\"best\")\n",
    "        pl.axis('equal')\n",
    "        pl.tight_layout()\n",
    "    else:\n",
    "        x = np.arange(len(labels))\n",
    "        fig, ax = pl.subplots()\n",
    "        pl.bar(x, sizes)\n",
    "        pl.xticks(x, labels)\n",
    "    pl.show()"
   ]
  },
  {
   "cell_type": "code",
   "execution_count": 4,
   "metadata": {},
   "outputs": [
    {
     "data": {
      "image/png": "[encoded data removed]",
      "text/plain": [
       "<Figure size 432x288 with 1 Axes>"
      ]
     },
     "metadata": {},
     "output_type": "display_data"
    }
   ],
   "source": [
    "labels = ['Good Tweets', 'Bad Tweets']\n",
    "good = [good for good in feature_data['label'] if good == 0]\n",
    "bad = [bad for bad in feature_data['label'] if bad == 1]\n",
    "sizes = [ len(good),len(bad)]\n",
    "plot(labels, sizes, 1)"
   ]
  },
  {
   "cell_type": "markdown",
   "metadata": {},
   "source": [
    "## Análise da natureza dos dados\n",
    "Após realizada a análise gráfica de alguns dados é possível extrair algumas informações como a relação percentual de cada classe nos casos de treino: 7.015% com discurso de ódio e 92.985% sem discurso de ódio, assim como a frequência das 10 palavras mais utilizadas em cada classe (com exceção de alguns termos considerados irrelevantes)."
   ]
  },
  {
   "cell_type": "markdown",
   "metadata": {},
   "source": [
    "# Pré Processamento\n",
    "## Separação de dados para análise estatística\n",
    "Após analisar a separação dos dados foi observado que diversos termo utilizados não têm tanto significado no contexto proposto para esse projeto, logo utilizou-se a dependencia nltk para eliminar alguns termos da lingua inglesa que não convém à análise, assim como outros termos analisados, tais quais: '@user', '&amp', '-', dentre outros.\n",
    "\n",
    "## Método\n",
    "Os casos de treino serão divididos respeitando a proporção total dos casos para que se tenham resultados mais concisos. Tendo feito isso serão criadas duas listas de frequência relativa para que seja feita uma futura comparação entre os outros casos de treino e assim obter uma média de resultados.\n",
    "\n",
    "## Features\n",
    "A feature analisada nesse contexto será a frequência relativa de cada palavra no contexto das classes de discurso de ódio e não discurso de ódio."
   ]
  },
  {
   "cell_type": "code",
   "execution_count": 5,
   "metadata": {},
   "outputs": [],
   "source": [
    "def separate_hashtags(message):\n",
    "    string = \" \".join(filter(lambda w: w[0]== '#', message.split()))\n",
    "    string = re.sub('[^a-zA-Z]',' ',  string)\n",
    "    string = string.lower()\n",
    "    string = [lemma.lemmatize(word) for word in string]\n",
    "    string = \"\".join(string)\n",
    "    return string"
   ]
  },
  {
   "cell_type": "code",
   "execution_count": 6,
   "metadata": {},
   "outputs": [
    {
     "data": {
      "text/html": [
       "<div>\n",
       "<style scoped>\n",
       "    .dataframe tbody tr th:only-of-type {\n",
       "        vertical-align: middle;\n",
       "    }\n",
       "\n",
       "    .dataframe tbody tr th {\n",
       "        vertical-align: top;\n",
       "    }\n",
       "\n",
       "    .dataframe thead th {\n",
       "        text-align: right;\n",
       "    }\n",
       "</style>\n",
       "<table border=\"1\" class=\"dataframe\">\n",
       "  <thead>\n",
       "    <tr style=\"text-align: right;\">\n",
       "      <th></th>\n",
       "      <th>id</th>\n",
       "      <th>label</th>\n",
       "      <th>tweet</th>\n",
       "      <th>hashtag</th>\n",
       "    </tr>\n",
       "  </thead>\n",
       "  <tbody>\n",
       "    <tr>\n",
       "      <td>0</td>\n",
       "      <td>1</td>\n",
       "      <td>0</td>\n",
       "      <td>@user when a father is dysfunctional and is s...</td>\n",
       "      <td>run</td>\n",
       "    </tr>\n",
       "    <tr>\n",
       "      <td>1</td>\n",
       "      <td>2</td>\n",
       "      <td>0</td>\n",
       "      <td>@user @user thanks for #lyft credit i can't us...</td>\n",
       "      <td>lyft  disapointed  getthanked</td>\n",
       "    </tr>\n",
       "    <tr>\n",
       "      <td>2</td>\n",
       "      <td>3</td>\n",
       "      <td>0</td>\n",
       "      <td>bihday your majesty</td>\n",
       "      <td></td>\n",
       "    </tr>\n",
       "    <tr>\n",
       "      <td>3</td>\n",
       "      <td>4</td>\n",
       "      <td>0</td>\n",
       "      <td>#model   i love u take with u all the time in ...</td>\n",
       "      <td>model</td>\n",
       "    </tr>\n",
       "    <tr>\n",
       "      <td>4</td>\n",
       "      <td>5</td>\n",
       "      <td>0</td>\n",
       "      <td>factsguide: society now    #motivation</td>\n",
       "      <td>motivation</td>\n",
       "    </tr>\n",
       "  </tbody>\n",
       "</table>\n",
       "</div>"
      ],
      "text/plain": [
       "   id  label                                              tweet  \\\n",
       "0   1      0   @user when a father is dysfunctional and is s...   \n",
       "1   2      0  @user @user thanks for #lyft credit i can't us...   \n",
       "2   3      0                                bihday your majesty   \n",
       "3   4      0  #model   i love u take with u all the time in ...   \n",
       "4   5      0             factsguide: society now    #motivation   \n",
       "\n",
       "                          hashtag  \n",
       "0                             run  \n",
       "1   lyft  disapointed  getthanked  \n",
       "2                                  \n",
       "3                           model  \n",
       "4                      motivation  "
      ]
     },
     "execution_count": 6,
     "metadata": {},
     "output_type": "execute_result"
    }
   ],
   "source": [
    "feature_data['hashtag'] = feature_data.tweet.apply(separate_hashtags)\n",
    "feature_data.head()"
   ]
  },
  {
   "cell_type": "code",
   "execution_count": 7,
   "metadata": {},
   "outputs": [],
   "source": [
    "def filter_messages(message):\n",
    "    string = \" \".join(filter(lambda x: x[0]!= '@', message.split()))\n",
    "    string = re.sub('[^a-zA-Z]',' ',  string)\n",
    "    string = string.lower()\n",
    "    string = [lemma.lemmatize(word) for word in string]\n",
    "    string = \"\".join(string)\n",
    "    return string"
   ]
  },
  {
   "cell_type": "code",
   "execution_count": 8,
   "metadata": {},
   "outputs": [],
   "source": [
    "feature_data['filtered'] = feature_data.tweet.apply(filter_messages)"
   ]
  },
  {
   "cell_type": "code",
   "execution_count": 9,
   "metadata": {},
   "outputs": [
    {
     "data": {
      "text/html": [
       "<div>\n",
       "<style scoped>\n",
       "    .dataframe tbody tr th:only-of-type {\n",
       "        vertical-align: middle;\n",
       "    }\n",
       "\n",
       "    .dataframe tbody tr th {\n",
       "        vertical-align: top;\n",
       "    }\n",
       "\n",
       "    .dataframe thead th {\n",
       "        text-align: right;\n",
       "    }\n",
       "</style>\n",
       "<table border=\"1\" class=\"dataframe\">\n",
       "  <thead>\n",
       "    <tr style=\"text-align: right;\">\n",
       "      <th></th>\n",
       "      <th>id</th>\n",
       "      <th>label</th>\n",
       "      <th>tweet</th>\n",
       "      <th>hashtag</th>\n",
       "      <th>filtered</th>\n",
       "    </tr>\n",
       "  </thead>\n",
       "  <tbody>\n",
       "    <tr>\n",
       "      <td>0</td>\n",
       "      <td>1</td>\n",
       "      <td>0</td>\n",
       "      <td>@user when a father is dysfunctional and is s...</td>\n",
       "      <td>run</td>\n",
       "      <td>when a father is dysfunctional and is so selfi...</td>\n",
       "    </tr>\n",
       "    <tr>\n",
       "      <td>1</td>\n",
       "      <td>2</td>\n",
       "      <td>0</td>\n",
       "      <td>@user @user thanks for #lyft credit i can't us...</td>\n",
       "      <td>lyft  disapointed  getthanked</td>\n",
       "      <td>thanks for  lyft credit i can t use cause they...</td>\n",
       "    </tr>\n",
       "    <tr>\n",
       "      <td>2</td>\n",
       "      <td>3</td>\n",
       "      <td>0</td>\n",
       "      <td>bihday your majesty</td>\n",
       "      <td></td>\n",
       "      <td>bihday your majesty</td>\n",
       "    </tr>\n",
       "    <tr>\n",
       "      <td>3</td>\n",
       "      <td>4</td>\n",
       "      <td>0</td>\n",
       "      <td>#model   i love u take with u all the time in ...</td>\n",
       "      <td>model</td>\n",
       "      <td>model i love u take with u all the time in ur...</td>\n",
       "    </tr>\n",
       "    <tr>\n",
       "      <td>4</td>\n",
       "      <td>5</td>\n",
       "      <td>0</td>\n",
       "      <td>factsguide: society now    #motivation</td>\n",
       "      <td>motivation</td>\n",
       "      <td>factsguide  society now  motivation</td>\n",
       "    </tr>\n",
       "  </tbody>\n",
       "</table>\n",
       "</div>"
      ],
      "text/plain": [
       "   id  label                                              tweet  \\\n",
       "0   1      0   @user when a father is dysfunctional and is s...   \n",
       "1   2      0  @user @user thanks for #lyft credit i can't us...   \n",
       "2   3      0                                bihday your majesty   \n",
       "3   4      0  #model   i love u take with u all the time in ...   \n",
       "4   5      0             factsguide: society now    #motivation   \n",
       "\n",
       "                          hashtag  \\\n",
       "0                             run   \n",
       "1   lyft  disapointed  getthanked   \n",
       "2                                   \n",
       "3                           model   \n",
       "4                      motivation   \n",
       "\n",
       "                                            filtered  \n",
       "0  when a father is dysfunctional and is so selfi...  \n",
       "1  thanks for  lyft credit i can t use cause they...  \n",
       "2                                bihday your majesty  \n",
       "3   model i love u take with u all the time in ur...  \n",
       "4                factsguide  society now  motivation  "
      ]
     },
     "execution_count": 9,
     "metadata": {},
     "output_type": "execute_result"
    }
   ],
   "source": [
    "good_tweets = feature_data[feature_data['label'] == 0]\n",
    "good_tweets.head()"
   ]
  },
  {
   "cell_type": "code",
   "execution_count": 10,
   "metadata": {},
   "outputs": [
    {
     "data": {
      "text/html": [
       "<div>\n",
       "<style scoped>\n",
       "    .dataframe tbody tr th:only-of-type {\n",
       "        vertical-align: middle;\n",
       "    }\n",
       "\n",
       "    .dataframe tbody tr th {\n",
       "        vertical-align: top;\n",
       "    }\n",
       "\n",
       "    .dataframe thead th {\n",
       "        text-align: right;\n",
       "    }\n",
       "</style>\n",
       "<table border=\"1\" class=\"dataframe\">\n",
       "  <thead>\n",
       "    <tr style=\"text-align: right;\">\n",
       "      <th></th>\n",
       "      <th>id</th>\n",
       "      <th>label</th>\n",
       "      <th>tweet</th>\n",
       "      <th>hashtag</th>\n",
       "      <th>filtered</th>\n",
       "    </tr>\n",
       "  </thead>\n",
       "  <tbody>\n",
       "    <tr>\n",
       "      <td>13</td>\n",
       "      <td>14</td>\n",
       "      <td>1</td>\n",
       "      <td>@user #cnn calls #michigan middle school 'buil...</td>\n",
       "      <td>cnn  michigan  tcot</td>\n",
       "      <td>cnn calls  michigan middle school  build the ...</td>\n",
       "    </tr>\n",
       "    <tr>\n",
       "      <td>14</td>\n",
       "      <td>15</td>\n",
       "      <td>1</td>\n",
       "      <td>no comment!  in #australia   #opkillingbay #se...</td>\n",
       "      <td>australia  opkillingbay  seashepherd  helpcov...</td>\n",
       "      <td>no comment  in  australia  opkillingbay  seash...</td>\n",
       "    </tr>\n",
       "    <tr>\n",
       "      <td>17</td>\n",
       "      <td>18</td>\n",
       "      <td>1</td>\n",
       "      <td>retweet if you agree!</td>\n",
       "      <td></td>\n",
       "      <td>retweet if you agree</td>\n",
       "    </tr>\n",
       "    <tr>\n",
       "      <td>23</td>\n",
       "      <td>24</td>\n",
       "      <td>1</td>\n",
       "      <td>@user @user lumpy says i am a . prove it lumpy.</td>\n",
       "      <td></td>\n",
       "      <td>lumpy says i am a   prove it lumpy</td>\n",
       "    </tr>\n",
       "    <tr>\n",
       "      <td>34</td>\n",
       "      <td>35</td>\n",
       "      <td>1</td>\n",
       "      <td>it's unbelievable that in the 21st century we'...</td>\n",
       "      <td>neverump  xenophobia</td>\n",
       "      <td>it s unbelievable that in the   st century we ...</td>\n",
       "    </tr>\n",
       "  </tbody>\n",
       "</table>\n",
       "</div>"
      ],
      "text/plain": [
       "    id  label                                              tweet  \\\n",
       "13  14      1  @user #cnn calls #michigan middle school 'buil...   \n",
       "14  15      1  no comment!  in #australia   #opkillingbay #se...   \n",
       "17  18      1                             retweet if you agree!    \n",
       "23  24      1    @user @user lumpy says i am a . prove it lumpy.   \n",
       "34  35      1  it's unbelievable that in the 21st century we'...   \n",
       "\n",
       "                                              hashtag  \\\n",
       "13                                cnn  michigan  tcot   \n",
       "14   australia  opkillingbay  seashepherd  helpcov...   \n",
       "17                                                      \n",
       "23                                                      \n",
       "34                               neverump  xenophobia   \n",
       "\n",
       "                                             filtered  \n",
       "13   cnn calls  michigan middle school  build the ...  \n",
       "14  no comment  in  australia  opkillingbay  seash...  \n",
       "17                              retweet if you agree   \n",
       "23                lumpy says i am a   prove it lumpy   \n",
       "34  it s unbelievable that in the   st century we ...  "
      ]
     },
     "execution_count": 10,
     "metadata": {},
     "output_type": "execute_result"
    }
   ],
   "source": [
    "bad_tweets = feature_data[feature_data['label'] != 0]\n",
    "bad_tweets.head()"
   ]
  },
  {
   "cell_type": "markdown",
   "metadata": {},
   "source": [
    "Após a separação dos dados é necessário que seja extraida a frequencia relativa de cada feature nos tweets"
   ]
  },
  {
   "cell_type": "code",
   "execution_count": 11,
   "metadata": {},
   "outputs": [],
   "source": [
    "good_words = [w for string in good_tweets['filtered'] for w in string.split() ]\n",
    "good_frequency = FreqDist(good_words)\n",
    "bad_words = [w for string in bad_tweets['filtered'] for w in string.split() ]\n",
    "bad_frequency = FreqDist(bad_words)\n",
    "good_hashtag_frequency = [hashtag for hashtags in good_tweets['hashtag'] for hashtag in hashtags.split()]\n",
    "bad_hashtag_frequency = [hashtag for hashtags in bad_tweets['hashtag'] for hashtag in hashtags.split()]"
   ]
  },
  {
   "cell_type": "code",
   "execution_count": 12,
   "metadata": {},
   "outputs": [
    {
     "data": {
      "image/png": "[encoded data removed]",
      "text/plain": [
       "<Figure size 432x288 with 1 Axes>"
      ]
     },
     "metadata": {
      "needs_background": "light"
     },
     "output_type": "display_data"
    }
   ],
   "source": [
    "good_hash = list(FreqDist(good_hashtag_frequency).most_common(5))\n",
    "labels = [elem[0] for elem in good_hash]\n",
    "sizes = [elem[1] for elem in good_hash]\n",
    "plot(labels, sizes, 0)"
   ]
  },
  {
   "cell_type": "code",
   "execution_count": 13,
   "metadata": {},
   "outputs": [
    {
     "data": {
      "image/png": "[encoded data removed]",
      "text/plain": [
       "<Figure size 432x288 with 1 Axes>"
      ]
     },
     "metadata": {
      "needs_background": "light"
     },
     "output_type": "display_data"
    }
   ],
   "source": [
    "bad_hash = list(FreqDist(bad_hashtag_frequency).most_common(5))\n",
    "labels = [elem[0] for elem in bad_hash]\n",
    "sizes = [elem[1] for elem in bad_hash]\n",
    "plot(labels, sizes, 0)"
   ]
  },
  {
   "cell_type": "markdown",
   "metadata": {},
   "source": [
    "## Separar casos de treino para obter um teste inicial\n",
    "### Seleção para classificação\n",
    "Foram escolidos os 15.500 primeiro tweets para serem a base de teste e o restantes dos tweets foi utilizado como treino, esses valores foram escolhidos arbitrariamente e podem ser alterados para obter diferentes valores de acerto na classificação."
   ]
  },
  {
   "cell_type": "code",
   "execution_count": 14,
   "metadata": {},
   "outputs": [
    {
     "data": {
      "text/html": [
       "<div>\n",
       "<style scoped>\n",
       "    .dataframe tbody tr th:only-of-type {\n",
       "        vertical-align: middle;\n",
       "    }\n",
       "\n",
       "    .dataframe tbody tr th {\n",
       "        vertical-align: top;\n",
       "    }\n",
       "\n",
       "    .dataframe thead th {\n",
       "        text-align: right;\n",
       "    }\n",
       "</style>\n",
       "<table border=\"1\" class=\"dataframe\">\n",
       "  <thead>\n",
       "    <tr style=\"text-align: right;\">\n",
       "      <th></th>\n",
       "      <th>id</th>\n",
       "      <th>label</th>\n",
       "      <th>tweet</th>\n",
       "      <th>hashtag</th>\n",
       "      <th>filtered</th>\n",
       "    </tr>\n",
       "  </thead>\n",
       "  <tbody>\n",
       "    <tr>\n",
       "      <td>15500</td>\n",
       "      <td>15501</td>\n",
       "      <td>0</td>\n",
       "      <td>@user @user 4th-rounder to take the mound for...</td>\n",
       "      <td></td>\n",
       "      <td>th rounder to take the mound for tonight  wel...</td>\n",
       "    </tr>\n",
       "    <tr>\n",
       "      <td>15501</td>\n",
       "      <td>15502</td>\n",
       "      <td>0</td>\n",
       "      <td>when you the only carry in your team :(</td>\n",
       "      <td></td>\n",
       "      <td>when you the only carry in your team</td>\n",
       "    </tr>\n",
       "    <tr>\n",
       "      <td>15502</td>\n",
       "      <td>15503</td>\n",
       "      <td>0</td>\n",
       "      <td>@user @user this has just happened to me today...</td>\n",
       "      <td></td>\n",
       "      <td>this has just happened to me today delivered  ...</td>\n",
       "    </tr>\n",
       "    <tr>\n",
       "      <td>15503</td>\n",
       "      <td>15504</td>\n",
       "      <td>0</td>\n",
       "      <td>i wish i could get my snapchat working ffs.</td>\n",
       "      <td></td>\n",
       "      <td>i wish i could get my snapchat working ffs</td>\n",
       "    </tr>\n",
       "    <tr>\n",
       "      <td>15504</td>\n",
       "      <td>15505</td>\n",
       "      <td>0</td>\n",
       "      <td>it's @user #iampossible today! #extraordinaryl...</td>\n",
       "      <td>iampossible  extraordinaryladyspeaks  starawa...</td>\n",
       "      <td>it s  iampossible today   extraordinaryladyspe...</td>\n",
       "    </tr>\n",
       "  </tbody>\n",
       "</table>\n",
       "</div>"
      ],
      "text/plain": [
       "          id  label                                              tweet  \\\n",
       "15500  15501      0   @user @user 4th-rounder to take the mound for...   \n",
       "15501  15502      0          when you the only carry in your team :(     \n",
       "15502  15503      0  @user @user this has just happened to me today...   \n",
       "15503  15504      0      i wish i could get my snapchat working ffs.     \n",
       "15504  15505      0  it's @user #iampossible today! #extraordinaryl...   \n",
       "\n",
       "                                                 hashtag  \\\n",
       "15500                                                      \n",
       "15501                                                      \n",
       "15502                                                      \n",
       "15503                                                      \n",
       "15504   iampossible  extraordinaryladyspeaks  starawa...   \n",
       "\n",
       "                                                filtered  \n",
       "15500   th rounder to take the mound for tonight  wel...  \n",
       "15501            when you the only carry in your team     \n",
       "15502  this has just happened to me today delivered  ...  \n",
       "15503        i wish i could get my snapchat working ffs   \n",
       "15504  it s  iampossible today   extraordinaryladyspe...  "
      ]
     },
     "execution_count": 14,
     "metadata": {},
     "output_type": "execute_result"
    }
   ],
   "source": [
    "train_set = feature_data[feature_data['id'] > 15500]\n",
    "train_set.head()"
   ]
  },
  {
   "cell_type": "code",
   "execution_count": 15,
   "metadata": {},
   "outputs": [],
   "source": [
    "good_train = train_set[train_set['label'] == 0]\n",
    "bad_train = train_set[train_set['label'] == 1]"
   ]
  },
  {
   "cell_type": "code",
   "execution_count": 16,
   "metadata": {},
   "outputs": [],
   "source": [
    "freq_good_hash = FreqDist([h for hashtag in good_train.hashtag for h in hashtag.split()])\n",
    "freq_bad_hash = FreqDist([h for hashtag in bad_train.hashtag for h in hashtag.split()])"
   ]
  },
  {
   "cell_type": "code",
   "execution_count": 17,
   "metadata": {},
   "outputs": [],
   "source": [
    "freq_good_word = FreqDist([w for string in good_train.filtered for w in string.split()])\n",
    "freq_bad_word = FreqDist([w for string in bad_train.filtered for w in string.split()])"
   ]
  },
  {
   "cell_type": "code",
   "execution_count": 18,
   "metadata": {},
   "outputs": [],
   "source": [
    "def get_relative(frequencies, total):\n",
    "    for word in frequencies:\n",
    "        frequencies[word] /= total\n",
    "    return frequencies"
   ]
  },
  {
   "cell_type": "code",
   "execution_count": 19,
   "metadata": {},
   "outputs": [],
   "source": [
    "relative_good_word = get_relative(freq_good_word, freq_good_word.N())\n",
    "relative_bad_word = get_relative(freq_bad_word, freq_bad_word.N())"
   ]
  },
  {
   "cell_type": "code",
   "execution_count": 20,
   "metadata": {},
   "outputs": [],
   "source": [
    "def classify(test, max_size):\n",
    "    classification = {'right_guess': 0, 'false_rejection': 0, 'false_acceptance': 0}\n",
    "    for data in range(max_size):\n",
    "        is_good = 0\n",
    "        is_bad = 0\n",
    "        for word in test.tweet[data].split():\n",
    "            if word in relative_good_word:\n",
    "                is_good += relative_good_word[word]\n",
    "            if word in relative_bad_word:\n",
    "                is_bad += relative_bad_word[word]\n",
    "        if is_bad >= is_good:\n",
    "            if test.label[data] == 1:\n",
    "                classification['right_guess'] += 1\n",
    "            else:\n",
    "                classification['false_rejection'] += 1\n",
    "        else:\n",
    "            if test.label[data] == 1:\n",
    "                classification['false_acceptance'] += 1\n",
    "            else:\n",
    "                classification['right_guess'] += 1\n",
    "    return classification"
   ]
  },
  {
   "cell_type": "code",
   "execution_count": 21,
   "metadata": {},
   "outputs": [],
   "source": [
    "test_set = feature_data[feature_data['id'] <= 15500]"
   ]
  },
  {
   "cell_type": "markdown",
   "metadata": {},
   "source": [
    "## Métrica\n",
    "A métrica escolhida foi a de precisão, onde as classificações foram separadas entre \"Acerto\" (quando o tweet é classificado corretamente), \"Falsa aceitação\" (quando o tweet contém discurso de ódio e é aceito como um tweet bom) e \"Falsa rejeição\" (quando o tweet é rejeitado mesmo sendo sem discurso de ódio) como pode-se observar no gráfico abaixo."
   ]
  },
  {
   "cell_type": "code",
   "execution_count": 22,
   "metadata": {},
   "outputs": [
    {
     "name": "stdout",
     "output_type": "stream",
     "text": [
      "RIGHT GUESS 9758\n",
      "FALSE REJECTION 5461\n",
      "FALSE ACCEPTANCE 281\n"
     ]
    },
    {
     "data": {
      "image/png": "[encoded data removed]",
      "text/plain": [
       "<Figure size 432x288 with 1 Axes>"
      ]
     },
     "metadata": {},
     "output_type": "display_data"
    }
   ],
   "source": [
    "max_size = 15500\n",
    "classification = classify(test_set, max_size)\n",
    "print('RIGHT GUESS:', classification['right_guess'])\n",
    "print('FALSE REJECTION:', classification['false_rejection'])\n",
    "print('FALSE ACCEPTANCE:', classification['false_acceptance'])\n",
    "plot(['RIGHT GUESS', 'FALSE REJECTION', 'FALSE ACCEPTANCE'], [classification['right_guess'], classification['false_rejection'], classification['false_acceptance']], 1)"
   ]
  },
  {
   "cell_type": "code",
   "execution_count": null,
   "metadata": {},
   "outputs": [],
   "source": []
  }
 ],
 "metadata": {
  "kernelspec": {
   "display_name": "Python 3",
   "language": "python",
   "name": "python3"
  },
  "language_info": {
   "codemirror_mode": {
    "name": "ipython",
    "version": 3
   },
   "file_extension": ".py",
   "mimetype": "text/x-python",
   "name": "python",
   "nbconvert_exporter": "python",
   "pygments_lexer": "ipython3",
   "version": "3.7.4"
  }
 },
 "nbformat": 4,
 "nbformat_minor": 2
}
