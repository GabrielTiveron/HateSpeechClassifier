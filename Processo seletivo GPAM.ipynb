{
 "cells": [
  {
   "cell_type": "code",
   "execution_count": null,
   "metadata": {},
   "outputs": [],
   "source": []
  },
  {
   "cell_type": "code",
   "execution_count": 43,
   "metadata": {},
   "outputs": [
    {
     "name": "stdout",
     "output_type": "stream",
     "text": [
      "2242 BAD\n",
      "29721 GOOD\n"
     ]
    }
   ],
   "source": [
    "import csv\n",
    "\n",
    "good_messages = []\n",
    "bad_messages = []\n",
    "\n",
    "with open('train.csv') as csv_file:\n",
    "    csv_reader = csv.reader(csv_file, delimiter=',')\n",
    "    for rows in csv_reader:\n",
    "        if(rows[1] == '1'):\n",
    "            bad_messages.append(rows[2])\n",
    "        else:\n",
    "            good_messages.append(rows[2])\n",
    "# Separando os casos de treino entre bons e ruins\n",
    "print(len(bad_messages), \"BAD\")\n",
    "print(len(good_messages), \"GOOD\")"
   ]
  },
  {
   "cell_type": "code",
   "execution_count": 44,
   "metadata": {},
   "outputs": [
    {
     "data": {
      "image/png": "[encoded data removed]",
      "text/plain": [
       "<Figure size 432x288 with 1 Axes>"
      ]
     },
     "metadata": {},
     "output_type": "display_data"
    }
   ],
   "source": [
    "import matplotlib.pyplot as plt\n",
    "\n",
    "labels = ['good', 'bad']\n",
    "sizes = [len(good_messages), len(bad_messages)]\n",
    "colors = ['green', 'red']\n",
    "explode = (0.1, 0,)\n",
    "patches, texts, test = plt.pie(sizes, colors=colors, shadow=True, startangle=90, autopct='%1.3f%%')\n",
    "plt.legend(patches, labels, loc=\"best\")\n",
    "plt.axis('equal')\n",
    "plt.tight_layout()\n",
    "plt.show()\n",
    "\n",
    "# Melhor Visualização dos dados"
   ]
  },
  {
   "cell_type": "markdown",
   "metadata": {},
   "source": [
    "# Análise Exploratória dos Dados\n",
    "\n",
    "## Extração de dados importantes\n",
    "\n",
    "Ao análisar alguns dados, pode-se perceber que a presença de tweets classificados como Discurso de ódio compõem aproximadamente 7.014% do total de casos de treino.\n",
    "\n",
    "\n",
    "| Sem Discurso de ódio | Com Discurso de Ódio | Total|\n",
    "|:--------------------:|:--------------------:| :---:|\n",
    "|       29721          |        2242          | 31963|\n",
    "|       92.986%        |        7.014%        | 100% |\n",
    "\n",
    "Além dos dados numéricos encontrados, também é necessário analisar que, segundo o artigo \"A Study on Detecting Patterns in Twitter Intra-topic User and Message Clustering\" de Marc Cheong e Vincent Lee, uma das características importantes para análize de tweets é o tema das \"hashtags\" para ter um conjunto temático melhor a ser analizado.\n"
   ]
  },
  {
   "cell_type": "code",
   "execution_count": null,
   "metadata": {},
   "outputs": [],
   "source": []
  },
  {
   "cell_type": "code",
   "execution_count": null,
   "metadata": {},
   "outputs": [],
   "source": []
  }
 ],
 "metadata": {
  "kernelspec": {
   "display_name": "Python 3",
   "language": "python",
   "name": "python3"
  },
  "language_info": {
   "codemirror_mode": {
    "name": "ipython",
    "version": 3
   },
   "file_extension": ".py",
   "mimetype": "text/x-python",
   "name": "python",
   "nbconvert_exporter": "python",
   "pygments_lexer": "ipython3",
   "version": "3.7.4"
  }
 },
 "nbformat": 4,
 "nbformat_minor": 2
}
