{
 "cells": [
  {
   "cell_type": "code",
   "execution_count": null,
   "metadata": {},
   "outputs": [],
   "source": []
  },
  {
   "cell_type": "code",
   "execution_count": 132,
   "metadata": {},
   "outputs": [
    {
     "name": "stdout",
     "output_type": "stream",
     "text": [
      "BAD MOST USED: #trump 119\n",
      "GOOD MOST USED: #love 1439\n",
      "8217 BAD\n",
      "58951 GOOD\n"
     ]
    }
   ],
   "source": [
    "import csv\n",
    "from statistics import mode\n",
    "import re\n",
    "from collections import Counter\n",
    "\n",
    "good_messages = []\n",
    "bad_messages = []\n",
    "\n",
    "good_bag = []\n",
    "bad_bag = []\n",
    "\n",
    "with open('train.csv') as csv_file:\n",
    "    csv_reader = csv.reader(csv_file, delimiter=',')\n",
    "    bad_index = 0\n",
    "    good_index = 0\n",
    "\n",
    "    for rows in csv_reader:\n",
    "        if(rows[1] == '1'):\n",
    "            bad_messages.append(rows[2])\n",
    "            if(len(bad_messages[bad_index].split(' ')) > 1):\n",
    "                for message in bad_messages[bad_index].split(' '):\n",
    "                    bad_bag.append(message)\n",
    "            else:\n",
    "                bad_bag.append(bad_messages[bad_index])\n",
    "            bad_index+=1\n",
    "        else:\n",
    "            good_messages.append(rows[2])\n",
    "            if(len(good_messages[good_index].split(' ')) > 1):\n",
    "                for message in good_messages[good_index].split(' '):\n",
    "                    good_bag.append(message)\n",
    "            else:\n",
    "                good_bag.append(good_messages[good_index])\n",
    "            good_index+=1\n",
    "\n",
    "# Separando os casos de treino entre bons e ruins\n",
    "regex = re.compile(r'(\\@\\buser\\b)|([\\d]+)|(\\s)|\\'\\'|$|([\\w*]{1,2}|\\&\\bamp\\b)')\n",
    "\n",
    "filtered_bad = [i for i in bad_bag if not regex.match(i)]\n",
    "filtered_good = [i for i in good_bag if not regex.match(i)]\n",
    "\n",
    "\n",
    "bad_most_used = mode(filtered_bad)\n",
    "indices_bad = [i for i, x in enumerate(filtered_bad) if x == bad_most_used]\n",
    "\n",
    "good_most_used = mode(filtered_good)\n",
    "indices_good = [i for i, x in enumerate(filtered_good) if x == good_most_used]\n",
    "\n",
    "good_bag = list(set(good_bag) - set(bad_bag))\n",
    "bad_bag = list(set(bad_bag) - set(good_bag))\n",
    "\n",
    "print(\"BAD MOST USED:\", bad_most_used, len(indices_bad))\n",
    "print(\"GOOD MOST USED:\", good_most_used, len(indices_good))\n",
    "print(len(bad_bag), \"BAD\")\n",
    "print(len(good_bag), \"GOOD\")"
   ]
  },
  {
   "cell_type": "code",
   "execution_count": 136,
   "metadata": {},
   "outputs": [
    {
     "data": {
      "image/png": "[encoded data removed]",
      "text/plain": [
       "<Figure size 432x288 with 1 Axes>"
      ]
     },
     "metadata": {},
     "output_type": "display_data"
    },
    {
     "data": {
      "image/png": "[encoded data removed]",
      "text/plain": [
       "<Figure size 432x288 with 1 Axes>"
      ]
     },
     "metadata": {},
     "output_type": "display_data"
    }
   ],
   "source": [
    "import matplotlib.pyplot as plt\n",
    "\n",
    "\n",
    "def plot(labels, sizes):\n",
    "    colors = ['green', 'red']\n",
    "    explode = (0.1, 0,)\n",
    "    patches, texts, pct = plt.pie(sizes, colors=colors, shadow=True, startangle=90, autopct='%1.3f%%')\n",
    "    plt.legend(patches, labels, loc=\"right\")\n",
    "    plt.axis('equal')\n",
    "    plt.tight_layout()\n",
    "    plt.show()\n",
    "\n",
    "message_data = {\"labels\": ['good', 'bad'], \"sizes\": [len(good_bag), len(bad_bag)]}\n",
    "plot(message_data[\"labels\"], message_data[\"sizes\"])\n",
    "occurrence_data = {\"labels\": ['#love', \"#trump\"], \"sizes\": [len(indices_good), len(indices_bad)]}\n",
    "plot(occurrence_data[\"labels\"], occurrence_data[\"sizes\"])\n",
    "\n",
    "\n",
    "# Melhor Visualização dos dados"
   ]
  },
  {
   "cell_type": "markdown",
   "metadata": {},
   "source": [
    "# Análise Exploratória dos Dados\n",
    "\n",
    "## Extração de dados importantes\n",
    "\n",
    "Primeiramente, antes de se analisar os dados, é necessário filtra-los. Para isso foram ignoradas palavras com menos de 2 caracteres, digitos, \"&amp\" e \"@user\". Tal conjunto foi ignorado por não ter um grande valor no contexto que está em análise neste trabalho. Após este filtro, obtivemos os seguintes dados:\n",
    "\n",
    "\n",
    "| Palavras sem Discurso de ódio | Palavras com Discurso de Ódio | Total |\n",
    "|:--------------------:|:--------------------:| :---: |\n",
    "|       58951          |        8217          | 67168 |\n",
    "|       87.766%        |        87.766%       | 100%  |\n",
    "\n",
    "Além dos dados numéricos encontrados, também é necessário analisar que, segundo o artigo \"A Study on Detecting Patterns in Twitter Intra-topic User and Message Clustering\" de Marc Cheong e Vincent Lee, uma das características importantes para análize de tweets é o tema das \"hashtags\" para ter um conjunto temático melhor a ser analizado.\n",
    "\n",
    "Após a divisão dos dados foi extraida a moda de cada conjunto sendo elas: \"#trump\" com 119 ocorrências para tweets com discurso de ódio e #love com 1439 ocorrências para tweets sem discurso de ódio. Esses dados são importantes para avaliar futuros pesos dessas mesmas palavras num outro contexto. \n",
    "\n",
    "Depois de separar as palavras de cada tweet e organizá-las entre \"boas\" e \"más\", será utilizada a \"feature hashing\" para que, com a separação de palavras, possa haver uma melhor determinação de quais tweets são de natureza maliciosa e quais não são.\n"
   ]
  },
  {
   "cell_type": "code",
   "execution_count": 16,
   "metadata": {},
   "outputs": [],
   "source": [
    "import numpy as np\n",
    "import random\n",
    "class Neural_Network:\n",
    "    def __init__(self, \n",
    "                 nmb_of_hidden_nodes,\n",
    "                 nmb_of_in_nodes,\n",
    "                 nmb_of_out_nodes,\n",
    "                 learning_rate):\n",
    "        self.nmb_of_hidden_nodes = nmb_of_hidden_nodes\n",
    "        self.nmb_of_in_nodes = nmb_of_in_nodes\n",
    "        self.nmb_of_out_nodes = nmb_of_out_nodes\n",
    "        self.generate_weights_and_bias()\n",
    "        \n",
    "    def generate_weight(self):\n",
    "        for _ in self.nmb_of_hidden_nodes\n",
    "            # rand for bias\n",
    "            for _ in self.nmb_of_in_nodes:\n",
    "                self.weight_hidden.append(rand.uniform(1, 5000))\n",
    "        for _ in self.nmb_of_out_nodes:\n",
    "            # rand bias\n",
    "            for _ in self.nmb_of_hidden_nodes:\n",
    "                self.weight_out.append(rand_uniform(1,5000))\n",
    "            \n",
    "    def train(list_train, should_be):\n",
    "        e = 0\n",
    "        for j in range(10_000):\n",
    "            for index in range(len(list_train)):\n",
    "                it_is = feed_forward(list_train[index])\n",
    "                e = np.linalg.norm(it_is - should_be)\n",
    "                self.error += e\n",
    "            mean_error = self.error / len(list_train)\n",
    "            if self.error < 0.2:\n",
    "                break\n",
    "            back_propagation(self)\n",
    "            \n",
    "    \n",
    "    def test(list_test):\n",
    "        pass\n",
    "    \n",
    "    def feed_forward(self, train_case):\n",
    "        pass\n",
    "    \n",
    "    def back_propagation(self):\n",
    "        pass"
   ]
  },
  {
   "cell_type": "code",
   "execution_count": null,
   "metadata": {},
   "outputs": [],
   "source": []
  }
 ],
 "metadata": {
  "kernelspec": {
   "display_name": "Python 3",
   "language": "python",
   "name": "python3"
  },
  "language_info": {
   "codemirror_mode": {
    "name": "ipython",
    "version": 3
   },
   "file_extension": ".py",
   "mimetype": "text/x-python",
   "name": "python",
   "nbconvert_exporter": "python",
   "pygments_lexer": "ipython3",
   "version": "3.7.4"
  }
 },
 "nbformat": 4,
 "nbformat_minor": 2
}
